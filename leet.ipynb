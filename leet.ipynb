{
 "cells": [
  {
   "cell_type": "code",
   "execution_count": 27,
   "metadata": {},
   "outputs": [],
   "source": [
    "import math"
   ]
  },
  {
   "cell_type": "code",
   "execution_count": 33,
   "metadata": {},
   "outputs": [
    {
     "name": "stdout",
     "output_type": "stream",
     "text": [
      "m: 0.2222222222222222 c: 0.33333333333333326\n",
      "m: 0.2222222222222222 c: 0.33333333333333326\n",
      "m: 0.2222222222222222 c: 0.33333333333333337\n",
      "2\n"
     ]
    }
   ],
   "source": [
    "def maxPoints(points):\n",
    "        lc=[2]\n",
    "        if len(points)==1:\n",
    "            return 1\n",
    "        for i in range(0,len(points)-1):\n",
    "            for j in range(i+1,len(points)):\n",
    "                [x1,y1],[x2,y2]=points[i],points[j]\n",
    "                # print(\"X,Y\",x1,y1,x2,y2)\n",
    "                count=0\n",
    "                if x2-x1==0:\n",
    "                    for k in points:\n",
    "                        if k[0]==x1:\n",
    "                            count+=1\n",
    "                    lc.append(count)\n",
    "                    continue\n",
    "                m=(y1-y2)/(x1-x2)\n",
    "                c=y1-(m*x1)\n",
    "                print(\"m:\",m,'c:',c)\n",
    "                for k in points:\n",
    "                    # print(k,math.ceil(m*k[0]+c))\n",
    "                    if k[1]==(m*k[0]+c):\n",
    "                        count+=1\n",
    "                lc.append(count)\n",
    "        return max(lc)\n",
    "li=[]\n",
    "# for i in range(int(input())):\n",
    "#     l=list(map(int,input().split(',')))\n",
    "#     li.append(l)\n",
    "li=[[-6,-1],[3,1],[12,3]]\n",
    "print(maxPoints(li))"
   ]
  },
  {
   "cell_type": "code",
   "execution_count": 10,
   "metadata": {},
   "outputs": [
    {
     "name": "stdout",
     "output_type": "stream",
     "text": [
      "One Hundred \n",
      "One Hundred Twenty \n",
      "One Hundred Twenty Three\n",
      "One\n",
      "Ten\n",
      "Twelve\n"
     ]
    }
   ],
   "source": [
    "def name_num(num):\n",
    "    ones={1:\"One\",2:\"Two\",3:\"Three\",4:\"Four\",5:\"Five\",6:\"Six\",7:\"Seven\",8:\"Eight\",9:\"Nine\"}\n",
    "    tens={1:\"Ten\",2:\"Twenty\",3:\"Thirty\",4:\"Forty\",5:\"Fifty\",6:\"Sixty\",7:\"Seventy\",8:\"Eighty\",9:\"Ninety\"}\n",
    "    teen={10:\"Ten\",11:\"Eleven\",12:\"Twelve\",13:\"Thirteen\",14:\"Forteen\",15:\"Fifteen\",16:\"Sixteen\",17:\"Seventeen\",18:\"Eighteen\",19:\"Nineteen\"}\n",
    "    name=\"\"\n",
    "    digi=(num-(num%100))/100\n",
    "    if digi!=0:\n",
    "        name+=ones[digi]+\" \"+\"Hundred\"+\" \"\n",
    "    digi=((num%100)-(num%10))/10\n",
    "    if digi!=0:\n",
    "        if digi==1:\n",
    "            digi=num%100\n",
    "            num=0\n",
    "            name+=teen[digi]\n",
    "        else:\n",
    "            name+=tens[digi]+\" \"\n",
    "    digi=(num%10)\n",
    "    if digi!=0:\n",
    "        name+=ones[digi]\n",
    "    return name\n",
    "print(name_num(100))\n",
    "print(name_num(120))\n",
    "print(name_num(123))\n",
    "print(name_num(1))\n",
    "print(name_num(10))\n",
    "print(name_num(12))"
   ]
  },
  {
   "cell_type": "code",
   "execution_count": 17,
   "metadata": {},
   "outputs": [
    {
     "name": "stdout",
     "output_type": "stream",
     "text": [
      "One Million Two Hundred Thirty Four Thousand Five Hundred Sixty Seven\n",
      "Zero\n",
      "One Million Five Hundred Sixty Seven\n"
     ]
    }
   ],
   "source": [
    "def numberToWords(num):\n",
    "        \n",
    "        if num==0:\n",
    "            return \"Zero\".strip()\n",
    "        num_sep=[]\n",
    "        while(num!=0):\n",
    "            num_sep.append(num%1000)\n",
    "            num=num//1000\n",
    "        biggies={1:\"Thousand\",2:\"Million\",3:\"Billion\"}\n",
    "        word=\"\"\n",
    "        for i in range(len(num_sep)):\n",
    "            if(num_sep[i]==0):\n",
    "                continue\n",
    "            if i==0:\n",
    "                word=word+name_num(num_sep[i])\n",
    "            else:\n",
    "                word=name_num(num_sep[i])+\" \"+biggies[i]+\" \"+word\n",
    "        return word.strip()\n",
    "\n",
    "print(numberToWords(1234567))\n",
    "print(numberToWords(0))\n",
    "print(numberToWords(1000567))"
   ]
  },
  {
   "cell_type": "code",
   "execution_count": 19,
   "metadata": {},
   "outputs": [
    {
     "name": "stdout",
     "output_type": "stream",
     "text": [
      "One Billion Two Hundred Thirty Four Million Three Hundred Twenty Four Thousand Three Hundred Forty Five\n"
     ]
    }
   ],
   "source": [
    "def name_num(num):\n",
    "    ones={1:\"One\",2:\"Two\",3:\"Three\",4:\"Four\",5:\"Five\",6:\"Six\",7:\"Seven\",8:\"Eight\",9:\"Nine\"}\n",
    "    tens={1:\"Ten\",2:\"Twenty\",3:\"Thirty\",4:\"Forty\",5:\"Fifty\",6:\"Sixty\",7:\"Seventy\",8:\"Eighty\",9:\"Ninety\"}\n",
    "    teen={10:\"Ten\",11:\"Eleven\",12:\"Twelve\",13:\"Thirteen\",14:\"Fourteen\",15:\"Fifteen\",16:\"Sixteen\",17:\"Seventeen\",18:\"Eighteen\",19:\"Nineteen\"}\n",
    "    name=\"\"\n",
    "    digi=(num-(num%100))/100\n",
    "    if digi!=0:\n",
    "        name+=ones[digi]+\" \"+\"Hundred\"+\" \"\n",
    "    digi=((num%100)-(num%10))/10\n",
    "    if digi!=0:\n",
    "        if digi==1:\n",
    "            digi=num%100\n",
    "            num=0\n",
    "            name+=teen[digi]\n",
    "        else:\n",
    "            name+=tens[digi]+\" \"\n",
    "    digi=(num%10)\n",
    "    if digi!=0:\n",
    "        name+=ones[digi]\n",
    "    return name.strip()\n",
    "# print(name_num(100))\n",
    "# print(name_num(120))\n",
    "# print(name_num(123))\n",
    "\n",
    "class Solution:\n",
    "    def numberToWords(self, num: int) -> str:\n",
    "        if num==0:\n",
    "            return \"Zero\"\n",
    "        num_sep=[]\n",
    "        while(num!=0):\n",
    "            num_sep.append(num%1000)\n",
    "            num=num//1000\n",
    "        biggies={1:\"Thousand\",2:\"Million\",3:\"Billion\"}\n",
    "        word=\"\"\n",
    "        for i in range(len(num_sep)):\n",
    "            if(num_sep[i]==0):\n",
    "                continue\n",
    "            if i==0:\n",
    "                word=word+name_num(num_sep[i])\n",
    "            else:\n",
    "                word=name_num(num_sep[i])+\" \"+biggies[i]+\" \"+word\n",
    "        return word.strip()\n",
    "\n",
    "Sol=Solution()\n",
    "\n",
    "print(Sol.numberToWords(1234324345))\n"
   ]
  }
 ],
 "metadata": {
  "kernelspec": {
   "display_name": "Python 3",
   "language": "python",
   "name": "python3"
  },
  "language_info": {
   "codemirror_mode": {
    "name": "ipython",
    "version": 3
   },
   "file_extension": ".py",
   "mimetype": "text/x-python",
   "name": "python",
   "nbconvert_exporter": "python",
   "pygments_lexer": "ipython3",
   "version": "3.11.4"
  },
  "orig_nbformat": 4
 },
 "nbformat": 4,
 "nbformat_minor": 2
}
